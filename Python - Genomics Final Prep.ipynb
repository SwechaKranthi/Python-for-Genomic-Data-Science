{
 "cells": [
  {
   "cell_type": "markdown",
   "id": "b5ab1cea-e3de-47ea-b581-4a535c887a21",
   "metadata": {},
   "source": [
    "# Python for Genetic Data Science - Coursera Final Prep"
   ]
  },
  {
   "cell_type": "markdown",
   "id": "b9d5365a-c656-4bd4-9f47-994725a854e1",
   "metadata": {},
   "source": [
    "In this project, we will write a Python program that takes as input a file containing DNA sequences in multi-FASTA format, and computes the answers to the following questions. You can choose to write one program with multiple functions to answer these questions, or you can write several programs to address them. We will provide a multi-FASTA file for you, and you will run your program to answer the exam questions. \n",
    "\n",
    "While developing your program(s), please use the following example file to test your work: dna.example.fasta\n",
    "\n",
    "You'll be given a different input file to launch the exam itself.\n",
    "\n",
    "Here are the questions your program needs to answer. The quiz itself contains the specific multiple-choice questions you need to answer for the file you will be provided.\n",
    "\n",
    "(1) How many records are in the file? A record in a FASTA file is defined as a single-line header, followed by lines of sequence data. The header line is distinguished from the sequence data by a greater-than (\">\") symbol in the first column. The word following the \">\" symbol is the identifier of the sequence, and the rest of the line is an optional description of the entry. There should be no space between the \">\" and the first letter of the identifier. \n",
    "\n",
    "(2) What are the lengths of the sequences in the file? What is the longest sequence and what is the shortest sequence? Is there more than one longest or shortest sequence? What are their identifiers? \n",
    "\n",
    "(3) In molecular biology, a reading frame is a way of dividing the DNA sequence of nucleotides into a set of consecutive, non-overlapping triplets (or codons). Depending on where we start, there are six possible reading frames: three in the forward (5' to 3') direction and three in the reverse (3' to 5'). For instance, the three possible forward reading frames for the sequence AGGTGACACCGCAAGCCTTATATTAGC are: \n",
    "\n",
    "AGG TGA CAC CGC AAG CCT TAT ATT AGC\n",
    "\n",
    "A GGT GAC ACC GCA AGC CTT ATA TTA GC\n",
    "\n",
    "AG GTG ACA CCG CAA GCC TTA TAT TAG C \n",
    "\n",
    "These are called reading frames 1, 2, and 3 respectively. An open reading frame (ORF) is the part of a reading frame that has the potential to encode a protein. It starts with a start codon (ATG), and ends with a stop codon (TAA, TAG or TGA). For instance, ATGAAATAG is an ORF of length 9.\n",
    "\n",
    "Given an input reading frame on the forward strand (1, 2, or 3) your program should be able to identify all ORFs present in each sequence of the FASTA file, and answer the following questions: what is the length of the longest ORF in the file? What is the identifier of the sequence containing the longest ORF? For a given sequence identifier, what is the longest ORF contained in the sequence represented by that identifier? What is the starting position of the longest ORF in the sequence that contains it? The position should indicate the character number in the sequence. For instance, the following ORF in reading frame 1:\n",
    "\n",
    ">sequence1\n",
    "\n",
    "ATGCCCTAG\n",
    "\n",
    "starts at position 1.\n",
    "\n",
    "Note that because the following sequence:\n",
    "\n",
    ">sequence2\n",
    "\n",
    "ATGAAAAAA\n",
    "\n",
    "does not have any stop codon in reading frame 1, we do not consider it to be an ORF in reading frame 1. \n",
    "\n",
    "(4) A repeat is a substring of a DNA sequence that occurs in multiple copies (more than one) somewhere in the sequence. Although repeats can occur on both the forward and reverse strands of the DNA sequence, we will only consider repeats on the forward strand here. Also we will allow repeats to overlap themselves. For example, the sequence ACACA contains two copies of the sequence ACA - once at position 1 (index 0 in Python), and once at position 3. Given a length n, your program should be able to identify all repeats of length n in all sequences in the FASTA file. Your program should also determine how many times each repeat occurs in the file, and which is the most frequent repeat of a given length."
   ]
  },
  {
   "cell_type": "markdown",
   "id": "0f32d972-003d-46b2-9727-0ddd91604dff",
   "metadata": {},
   "source": [
    "## 0.2 Let's read and preview the file "
   ]
  },
  {
   "cell_type": "code",
   "execution_count": 1,
   "id": "f8494899-d5c4-46f7-9e78-69d734e2371b",
   "metadata": {},
   "outputs": [],
   "source": [
    "from Bio import SeqIO\n",
    "\n",
    "dna_dict = SeqIO.index(\"dna.example.fasta\", \"fasta\")\n"
   ]
  },
  {
   "cell_type": "code",
   "execution_count": 2,
   "id": "bc776a4f-d352-401b-84ef-be2f5d271bd4",
   "metadata": {},
   "outputs": [
    {
     "name": "stdout",
     "output_type": "stream",
     "text": [
      "gi|142022655|gb|EQ086233.1|43  :  ID: gi|142022655|gb|EQ086233.1|43\n",
      "Name: gi|142022655|gb|EQ086233.1|43\n",
      "Description: gi|142022655|gb|EQ086233.1|43 marine metagenome JCVI_SCAF_1096627390048 genomic scaffold, whole genome shotgun sequence\n",
      "Number of features: 0\n",
      "Seq('TCGGGCGAAGGCGGCAGCAAGTCGTCCACGCGCAGCGCGGCACCGCGGGCCTCT...TTC')\n",
      "gi|142022655|gb|EQ086233.1|160  :  ID: gi|142022655|gb|EQ086233.1|160\n",
      "Name: gi|142022655|gb|EQ086233.1|160\n",
      "Description: gi|142022655|gb|EQ086233.1|160 marine metagenome JCVI_SCAF_1096627390048 genomic scaffold, whole genome shotgun sequence\n",
      "Number of features: 0\n",
      "Seq('ATTGGGGAGGAGGCGAGTTGAGCGGCGGCAGTTCGCCTGCGTGCGCTGCGCGGC...GAG')\n",
      "gi|142022655|gb|EQ086233.1|41  :  ID: gi|142022655|gb|EQ086233.1|41\n",
      "Name: gi|142022655|gb|EQ086233.1|41\n",
      "Description: gi|142022655|gb|EQ086233.1|41 marine metagenome JCVI_SCAF_1096627390048 genomic scaffold, whole genome shotgun sequence\n",
      "Number of features: 0\n",
      "Seq('GACCTTGCATCGGCTGATCGCCGAGCGTGCCGACGTATTCATTCACAACCTGCG...GTC')\n",
      "gi|142022655|gb|EQ086233.1|221  :  ID: gi|142022655|gb|EQ086233.1|221\n",
      "Name: gi|142022655|gb|EQ086233.1|221\n",
      "Description: gi|142022655|gb|EQ086233.1|221 marine metagenome JCVI_SCAF_1096627390048 genomic scaffold, whole genome shotgun sequence\n",
      "Number of features: 0\n",
      "Seq('GCCCGGCGATTTGACGTCTGCAGCCTCACGTCCAAACTCAATTTGAGATTCTTG...GTC')\n",
      "gi|142022655|gb|EQ086233.1|294  :  ID: gi|142022655|gb|EQ086233.1|294\n",
      "Name: gi|142022655|gb|EQ086233.1|294\n",
      "Description: gi|142022655|gb|EQ086233.1|294 marine metagenome JCVI_SCAF_1096627390048 genomic scaffold, whole genome shotgun sequence\n",
      "Number of features: 0\n",
      "Seq('GATCAGCCCCGCATACGCGTACGCGCGTGCGACGCCGAAGAGCGTCTGCTGCCG...GCG')\n",
      "gi|142022655|gb|EQ086233.1|323  :  ID: gi|142022655|gb|EQ086233.1|323\n",
      "Name: gi|142022655|gb|EQ086233.1|323\n",
      "Description: gi|142022655|gb|EQ086233.1|323 marine metagenome JCVI_SCAF_1096627390048 genomic scaffold, whole genome shotgun sequence\n",
      "Number of features: 0\n",
      "Seq('ACGCCCGGCGCACCGCGAGTACCGCGCCGCCGGGCACTCCTTGACCCCGCATGA...CGC')\n",
      "gi|142022655|gb|EQ086233.1|564  :  ID: gi|142022655|gb|EQ086233.1|564\n",
      "Name: gi|142022655|gb|EQ086233.1|564\n",
      "Description: gi|142022655|gb|EQ086233.1|564 marine metagenome JCVI_SCAF_1096627390048 genomic scaffold, whole genome shotgun sequence\n",
      "Number of features: 0\n",
      "Seq('CTGGTAGCCATGCAGCAAGGCTGGCGCTAGATGTACGGCCAGATTGGCGAGCTG...CAT')\n",
      "gi|142022655|gb|EQ086233.1|521  :  ID: gi|142022655|gb|EQ086233.1|521\n",
      "Name: gi|142022655|gb|EQ086233.1|521\n",
      "Description: gi|142022655|gb|EQ086233.1|521 marine metagenome JCVI_SCAF_1096627390048 genomic scaffold, whole genome shotgun sequence\n",
      "Number of features: 0\n",
      "Seq('CGTTGTTCGCCAGGTCGTCCGCATAGCCGGCCGAGCTGAACTGCGTGACATACG...TCG')\n",
      "gi|142022655|gb|EQ086233.1|455  :  ID: gi|142022655|gb|EQ086233.1|455\n",
      "Name: gi|142022655|gb|EQ086233.1|455\n",
      "Description: gi|142022655|gb|EQ086233.1|455 marine metagenome JCVI_SCAF_1096627390048 genomic scaffold, whole genome shotgun sequence\n",
      "Number of features: 0\n",
      "Seq('TTCGAGTCGCTCGACGCGCCTCGACGGGCAACTAGCCGCCGTTGGCCAGCCTTG...CCG')\n",
      "gi|142022655|gb|EQ086233.1|229  :  ID: gi|142022655|gb|EQ086233.1|229\n",
      "Name: gi|142022655|gb|EQ086233.1|229\n",
      "Description: gi|142022655|gb|EQ086233.1|229 marine metagenome JCVI_SCAF_1096627390048 genomic scaffold, whole genome shotgun sequence\n",
      "Number of features: 0\n",
      "Seq('GGGTTCGGCGTCCTACTGGGGCGGCTACTGCAACCACGGCAACGTGCTGTTCCC...ACC')\n",
      "gi|142022655|gb|EQ086233.1|422  :  ID: gi|142022655|gb|EQ086233.1|422\n",
      "Name: gi|142022655|gb|EQ086233.1|422\n",
      "Description: gi|142022655|gb|EQ086233.1|422 marine metagenome JCVI_SCAF_1096627390048 genomic scaffold, whole genome shotgun sequence\n",
      "Number of features: 0\n",
      "Seq('AGCGCGTAATAGAACTGCCGGTAGGTGCGGTTGTAATAGCGGATGCGCGGCCCG...CGA')\n",
      "gi|142022655|gb|EQ086233.1|384  :  ID: gi|142022655|gb|EQ086233.1|384\n",
      "Name: gi|142022655|gb|EQ086233.1|384\n",
      "Description: gi|142022655|gb|EQ086233.1|384 marine metagenome JCVI_SCAF_1096627390048 genomic scaffold, whole genome shotgun sequence\n",
      "Number of features: 0\n",
      "Seq('CTTCCGATCGCATGTCACGCCGGCGCGACATTTCGACGAACGCGTCGAGCGACA...GTG')\n",
      "gi|142022655|gb|EQ086233.1|280  :  ID: gi|142022655|gb|EQ086233.1|280\n",
      "Name: gi|142022655|gb|EQ086233.1|280\n",
      "Description: gi|142022655|gb|EQ086233.1|280 marine metagenome JCVI_SCAF_1096627390048 genomic scaffold, whole genome shotgun sequence\n",
      "Number of features: 0\n",
      "Seq('GCAGCGACGAGCCGCCCCAGATCTTGATCCCGCACGCGCAGCTCGCCGGCCCGA...GCG')\n",
      "gi|142022655|gb|EQ086233.1|158  :  ID: gi|142022655|gb|EQ086233.1|158\n",
      "Name: gi|142022655|gb|EQ086233.1|158\n",
      "Description: gi|142022655|gb|EQ086233.1|158 marine metagenome JCVI_SCAF_1096627390048 genomic scaffold, whole genome shotgun sequence\n",
      "Number of features: 0\n",
      "Seq('GCCCGGTTTTCACGCGGAGATCGGGCGATTCCATCACCTGAAGGCATCGTGGTC...TCT')\n",
      "gi|142022655|gb|EQ086233.1|59  :  ID: gi|142022655|gb|EQ086233.1|59\n",
      "Name: gi|142022655|gb|EQ086233.1|59\n",
      "Description: gi|142022655|gb|EQ086233.1|59 marine metagenome JCVI_SCAF_1096627390048 genomic scaffold, whole genome shotgun sequence\n",
      "Number of features: 0\n",
      "Seq('CGTGAATTCGATCTGCGGCAGCACGATCGCATGCATCACGCCCCGCCAGTCGAT...CAG')\n",
      "gi|142022655|gb|EQ086233.1|319  :  ID: gi|142022655|gb|EQ086233.1|319\n",
      "Name: gi|142022655|gb|EQ086233.1|319\n",
      "Description: gi|142022655|gb|EQ086233.1|319 marine metagenome JCVI_SCAF_1096627390048 genomic scaffold, whole genome shotgun sequence\n",
      "Number of features: 0\n",
      "Seq('CAGCGGCGACGAACATCGCGGCCGGCCGGGCGGCGGCGCACCCGGCGTGCAGGT...GGG')\n",
      "gi|142022655|gb|EQ086233.1|438  :  ID: gi|142022655|gb|EQ086233.1|438\n",
      "Name: gi|142022655|gb|EQ086233.1|438\n",
      "Description: gi|142022655|gb|EQ086233.1|438 marine metagenome JCVI_SCAF_1096627390048 genomic scaffold, whole genome shotgun sequence\n",
      "Number of features: 0\n",
      "Seq('CGGGGTCCTGATCCGGGAGTCCGGGCCGCCGGCGTATCTTCGCGTGTCGATCGG...TGC')\n",
      "gi|142022655|gb|EQ086233.1|210  :  ID: gi|142022655|gb|EQ086233.1|210\n",
      "Name: gi|142022655|gb|EQ086233.1|210\n",
      "Description: gi|142022655|gb|EQ086233.1|210 marine metagenome JCVI_SCAF_1096627390048 genomic scaffold, whole genome shotgun sequence\n",
      "Number of features: 0\n",
      "Seq('GAGCGACGGGAAAAGACGTACGGGAAACTCACGCCGTCGCAGGCGCGCCGGGCG...ATC')\n",
      "gi|142022655|gb|EQ086233.1|237  :  ID: gi|142022655|gb|EQ086233.1|237\n",
      "Name: gi|142022655|gb|EQ086233.1|237\n",
      "Description: gi|142022655|gb|EQ086233.1|237 marine metagenome JCVI_SCAF_1096627390048 genomic scaffold, whole genome shotgun sequence\n",
      "Number of features: 0\n",
      "Seq('GGACCGGATAGCCCTGGTCGCGCGCTTCGCTGAGTGCCGTGTACGCATCCGAGC...ATT')\n",
      "gi|142022655|gb|EQ086233.1|507  :  ID: gi|142022655|gb|EQ086233.1|507\n",
      "Name: gi|142022655|gb|EQ086233.1|507\n",
      "Description: gi|142022655|gb|EQ086233.1|507 marine metagenome JCVI_SCAF_1096627390048 genomic scaffold, whole genome shotgun sequence\n",
      "Number of features: 0\n",
      "Seq('CAGGCAGCGTTGCGCGCGTGACATGAATCATCGGGCGGCTATCGAGGTACAACC...AAG')\n",
      "gi|142022655|gb|EQ086233.1|350  :  ID: gi|142022655|gb|EQ086233.1|350\n",
      "Name: gi|142022655|gb|EQ086233.1|350\n",
      "Description: gi|142022655|gb|EQ086233.1|350 marine metagenome JCVI_SCAF_1096627390048 genomic scaffold, whole genome shotgun sequence\n",
      "Number of features: 0\n",
      "Seq('GCAATGGGTGTCAGGAAGCGGCGCCGACGCAGCCCCGTATTTTCGAATCTTCAA...TGT')\n",
      "gi|142022655|gb|EQ086233.1|245  :  ID: gi|142022655|gb|EQ086233.1|245\n",
      "Name: gi|142022655|gb|EQ086233.1|245\n",
      "Description: gi|142022655|gb|EQ086233.1|245 marine metagenome JCVI_SCAF_1096627390048 genomic scaffold, whole genome shotgun sequence\n",
      "Number of features: 0\n",
      "Seq('CCAGCCGAGCCCGAGTGCCAGCACGGCGCAGGCGGCGAGCAGCGGCACCGTGAC...GCG')\n",
      "gi|142022655|gb|EQ086233.1|279  :  ID: gi|142022655|gb|EQ086233.1|279\n",
      "Name: gi|142022655|gb|EQ086233.1|279\n",
      "Description: gi|142022655|gb|EQ086233.1|279 marine metagenome JCVI_SCAF_1096627390048 genomic scaffold, whole genome shotgun sequence\n",
      "Number of features: 0\n",
      "Seq('AGGCTTGACCTTGTGCGGCAGCCGGCAGCCGCCGGCCGGCAGGTTGCCGTACGG...GTC')\n",
      "gi|142022655|gb|EQ086233.1|378  :  ID: gi|142022655|gb|EQ086233.1|378\n",
      "Name: gi|142022655|gb|EQ086233.1|378\n",
      "Description: gi|142022655|gb|EQ086233.1|378 marine metagenome JCVI_SCAF_1096627390048 genomic scaffold, whole genome shotgun sequence\n",
      "Number of features: 0\n",
      "Seq('CATGGCGCGCCTGCTGCACGCGCAACGCCTGTGCGATCCAGAGCGCGGCAGTCG...GCA')\n",
      "gi|142022655|gb|EQ086233.1|101  :  ID: gi|142022655|gb|EQ086233.1|101\n",
      "Name: gi|142022655|gb|EQ086233.1|101\n",
      "Description: gi|142022655|gb|EQ086233.1|101 marine metagenome JCVI_SCAF_1096627390048 genomic scaffold, whole genome shotgun sequence\n",
      "Number of features: 0\n",
      "Seq('CACATCGACACGAAGATCACCGCGCATGCGTTGCTGATCACGCTCGTCAGCGCG...GCG')\n"
     ]
    }
   ],
   "source": [
    "for key, value in dna_dict.items():\n",
    "    print(key, ' : ', value)"
   ]
  },
  {
   "cell_type": "code",
   "execution_count": 3,
   "id": "85e16be7-7d3e-47be-bee8-025b880e4896",
   "metadata": {},
   "outputs": [],
   "source": [
    "# I am having difficulty using biopython library, so we are doing it the good old manual text parser way\n",
    "\n",
    "dna = open(\"dna.example.fasta\", \"r\")\n",
    "dna_file = dna.readlines()"
   ]
  },
  {
   "cell_type": "code",
   "execution_count": 4,
   "id": "5ade5a91-5fbf-43b3-b6ec-fe5a72dbb625",
   "metadata": {},
   "outputs": [
    {
     "name": "stdout",
     "output_type": "stream",
     "text": [
      ">gi|142022655|gb|EQ086233.1|43 marine metagenome JCVI_SCAF_1096627390048 genomic scaffold, whole genome shotgun sequence\n",
      "\n",
      "TCGGGCGAAGGCGGCAGCAAGTCGTCCACGCGCAGCGCGGCACCGCGGGCCTCTGCCGTGCGCTGCTTGG\n",
      "\n",
      "CCATGGCCTCCAGCGCACCGATCGGATCAAAGCCGCTGAAGCCTTCGCGCATCAGGCGGCCATAGTTGGC\n",
      "\n",
      "GCCAGTGACCGTACCAACCGCCTTGATGCGGCGCTCGGTCATCGCTGCATTGATCGAGTAGCCACCGCCG\n",
      "\n",
      "CCGCAAATGCCCAGCACGCCAATGCGTTCTTCATCCACATAGGGGAGCGTTACGAGGTAGTCGCAGACCA\n",
      "\n",
      "CGCGGAAATCCTCGACGCGCAGTGTCGGGTCTTCGGTAAAACGTGGTTCGCCGCCGCTGGCACCCTGGAA\n",
      "\n",
      "GCTGGCGTCGAAGGCGATGACGACGAAACCTTCCTTGGCCAGCGCCTCGCCATACACGTTCCCCGATGTT\n",
      "\n",
      "TGCTCCTTGCAGCTGCCGATCGGATGCGCGCTGATGATGGCGGGATATTTCTTGCCTTCGTCGAAGTTCG\n",
      "\n",
      "GCGGGAAGTGGATGTCGGCTGCGATATCCCAATACACATTCTTGATCTTGACGCTTTTCATGACAGCTCC\n",
      "\n",
      "GTTCAGGGGGAGGGGGTAAGTTCGCCAGGCCGAATCGTTGGTAGCCAAGCGGCAACGACTCGAATATAGA\n",
      "\n",
      "GAGCCGATTGGAATTCCGTAAGATCGCAATCTGGACTACAGTGGTATCTTCAAATTGACAATGGCACCTA\n",
      "\n",
      "CATGGATCCCTCACTGCTTCCGTCTCTCGCGTGGTTCGCCCACGTCGCACATCATCGTAGCTTCACGAAA\n",
      "\n",
      "GCGGCTGCGGAAATGGGCGTTTCTCGAGCAAACCTGTCGCAGAACGTGAAGGCGCTCGAACGCCGGTTGA\n",
      "\n",
      "ACGTCAAGCTGCTGTATCGAACGACTCGCGACATGTCGCTGACCGAGGAGGGGCAGCGGCTCTACGAGGT\n",
      "\n",
      "GTGGTATCCCGCGCTGGTCGCGGTCGAGCGGACGGTCGACGCGCTGCACGAGGAGCGCGACGAGCCGTCG\n",
      "\n",
      "GGGTTGATTC\n",
      "\n",
      ">gi|142022655|gb|EQ086233.1|160 marine metagenome JCVI_SCAF_1096627390048 genomic scaffold, whole genome shotgun sequence\n",
      "\n",
      "ATTGGGGAGGAGGCGAGTTGAGCGGCGGCAGTTCGCCTGCGTGCGCTGCGCGGCGTCGACATCTGATCCG\n",
      "\n",
      "CACCATGGAAATCCCCGCTCAATCTTTGGAGCAGGGATGCGGGGCGATCAAGATGGGGATGCGGGATGGG\n",
      "\n",
      "GGCGACGGTGTATTTCCGCCAGAAGATTTCGCCGCGGGAGCTCGCGGTGCGTACGTGCATGTTCAAACGC\n",
      "\n",
      "ACGGTGCGCGCATGGCAGTGGCAGACTGATCAACGCAGCTGGAAGCATCCGAAGCGCGCGGGCACGCGTG\n",
      "\n",
      "TCCTCGACGCGTGGCCTCACATGCTGTCGGGTCGGTTCAAGACCGAAAGCCACCGACCGACGCGCGAGCA\n",
      "\n",
      "ATGCGCTACGCGGATCGCGTTCGACACGAGCCGCGCGCGAGGCAAGGCCGACGTATTCGATCTTCCAGAG\n",
      "\n",
      "GAAGCCTATTGGCTCGAGTCGTAGTGCTCGATATGGTAGAGCAACATGAATCCCGGGCTAAGTACAAGAA\n",
      "\n",
      "GTAACCCGGCAACGAGTGAGATTGCGACGAATAAACGCTTCACCATGATCGCGCTCCTGAGTTGGTTGAG\n",
      "\n"
     ]
    }
   ],
   "source": [
    "# lets look at first 25 lines\n",
    "for x in range(25):\n",
    "    print(dna_file[x])"
   ]
  },
  {
   "cell_type": "markdown",
   "id": "fa0abe71-1eb2-4a23-910f-cfff731aee9d",
   "metadata": {},
   "source": [
    "### ---------------------------- Now lets start answering the questions:: -----------------------\n",
    "\n",
    "## 1.  How many records are in the file? \n",
    "\n",
    "A record in a FASTA file is defined as a single-line header, followed by lines of sequence data. The header line is distinguished from the sequence data by a greater-than (\">\") symbol in the first column. The word following the \">\" symbol is the identifier of the sequence, and the rest of the line is an optional description of the entry. There should be no space between the \">\" and the first letter of the identifier."
   ]
  },
  {
   "cell_type": "code",
   "execution_count": 5,
   "id": "96b22a17-2ded-4a2b-a527-729f48e1cc92",
   "metadata": {},
   "outputs": [
    {
     "name": "stdout",
     "output_type": "stream",
     "text": [
      "There are 25 records in the sample sequences file\n"
     ]
    }
   ],
   "source": [
    "#biopython\n",
    "\n",
    "dna_dict\n",
    "print('There are ' + str(len(dna_dict)) + ' records in the sample sequences file')\n"
   ]
  },
  {
   "cell_type": "code",
   "execution_count": 6,
   "id": "33a7811c-bac7-43e8-adef-b7d5643d4dbc",
   "metadata": {},
   "outputs": [
    {
     "name": "stdout",
     "output_type": "stream",
     "text": [
      "There are 0 records in the sample sequences file\n"
     ]
    }
   ],
   "source": [
    "#old fashion\n",
    "\n",
    "print('There are ' + str(dna_file.count('>')) + ' records in the sample sequences file')\n"
   ]
  },
  {
   "cell_type": "markdown",
   "id": "bdd51b0d-9c94-46d0-9d98-a3c181c80853",
   "metadata": {},
   "source": [
    "## 2. What are the lengths of the sequences in the file? What is the longest sequence and what is the shortest sequence? Is there more than one longest or shortest sequence? What are their identifiers?"
   ]
  },
  {
   "cell_type": "code",
   "execution_count": 7,
   "id": "45cdbb79-c365-4b47-b06e-e11d2e53742e",
   "metadata": {},
   "outputs": [],
   "source": [
    "#lets write is as a functions so we can just call it on a different file each time.\n",
    "\n",
    "def seq_lengths(file_name):\n",
    "    f = open(file_name, \"r\")\n",
    "    file = f.readlines()\n",
    "\n",
    "\n",
    "\n",
    "    sequences = []\n",
    "    seq = \"\"\n",
    "    for f in file:\n",
    "        if not f.startswith('>'):\n",
    "            f = f.replace(\" \", \"\")\n",
    "            f = f.replace(\"\\n\", \"\")\n",
    "            seq = seq + f\n",
    "        else:\n",
    "            sequences.append(seq)\n",
    "            seq = \"\"\n",
    "    \n",
    "# Add the last seq\n",
    "    sequences.append(seq)\n",
    "\n",
    "    sequences = sequences[1:]\n",
    "\n",
    "    lengths = [len(i) for i in sequences]\n",
    "        \n",
    "    return lengths"
   ]
  },
  {
   "cell_type": "code",
   "execution_count": 8,
   "id": "c4b76bb1-59da-4343-a2ec-bb00086f3709",
   "metadata": {},
   "outputs": [],
   "source": [
    "# list the lengths\n",
    "example_lengths =seq_lengths('dna.example.fasta')"
   ]
  },
  {
   "cell_type": "code",
   "execution_count": 9,
   "id": "d1c0e247-6590-4cdc-9f0e-a5d3b33524c8",
   "metadata": {},
   "outputs": [
    {
     "name": "stdout",
     "output_type": "stream",
     "text": [
      "shortest length of a sequence is: 512\n",
      "shortest length of a sequence is: 4805\n"
     ]
    }
   ],
   "source": [
    "# sequence with shortest length\n",
    "\n",
    "print('shortest length of a sequence is: '+ str(min(example_lengths)))\n",
    "\n",
    "# sequence with longest length\n",
    "\n",
    "print('shortest length of a sequence is: '+ str(max(example_lengths)))"
   ]
  },
  {
   "cell_type": "markdown",
   "id": "417269e9-c2b3-49d0-9c9c-22efe6ba9692",
   "metadata": {},
   "source": [
    "### 2.3 let's make a sequence list function  for future operations"
   ]
  },
  {
   "cell_type": "code",
   "execution_count": 10,
   "id": "e85afe63-2e2e-40e0-b4bf-8638af251460",
   "metadata": {},
   "outputs": [],
   "source": [
    "def gen_seq_list(file_name):\n",
    "\n",
    "    f = open(file_name, \"r\")\n",
    "    file = f.readlines()\n",
    "\n",
    "    sequences = []\n",
    "    seq = \"\"\n",
    "    for f in file:\n",
    "        if not f.startswith('>'):\n",
    "            f = f.replace(\" \", \"\")\n",
    "            f = f.replace(\"\\n\", \"\")\n",
    "            seq = seq + f\n",
    "        else:\n",
    "            sequences.append(seq)\n",
    "            seq = \"\"\n",
    "            \n",
    "    sequences.append(seq)\n",
    "    sequences = sequences[1:] # remove first line due to null val\n",
    "    \n",
    "    return sequences\n",
    "    "
   ]
  },
  {
   "cell_type": "markdown",
   "id": "368a5183-33a4-42f6-92db-15a9f01abead",
   "metadata": {},
   "source": [
    "## 3. ORF: what is the length of the longest ORF in the file? \n",
    "\n",
    "What is the identifier of the sequence containing the longest ORF? For a given sequence identifier, what is the longest ORF contained in the sequence represented by that identifier? What is the starting position of the longest ORF in the sequence that contains it? "
   ]
  },
  {
   "cell_type": "markdown",
   "id": "8b499392-3e76-47a4-81f3-b358a4a9c4f6",
   "metadata": {},
   "source": [
    "### 3.1 Finding the ORF (Open Read Frame)\n",
    "\n",
    "First we need to find the dna sequences in the file in order to work with each of them individually. we do this by finding the ORF by looking for start and stop codons. \n",
    "\n",
    "In simple terms, ORF is the region of a neucliotide between the start and stop codon. it is the sequence of dna or rna that produces the coded amino acid. We find this in a dna sequence by looking for ATG which is the start codon. The stop codons are one of the following:[\"TAA\", \"TAA\", \"TGA\"]"
   ]
  },
  {
   "cell_type": "code",
   "execution_count": 11,
   "id": "2eecbdb2-f0e1-4fd0-8660-2652f1a14552",
   "metadata": {},
   "outputs": [],
   "source": [
    "def find_orf(sequence):      \n",
    "    # Find all ATG indexs. ATG is usually the start codon for the Methionine start\n",
    "    start_position = 1\n",
    "    start_indexs = []\n",
    "    stop_indexs = []\n",
    "    for i in range(1, len(sequence), 3):\n",
    "        if sequence[i:i+3] == \"ATG\":\n",
    "            start_indexs.append(i)\n",
    "\n",
    "    # Find all stop codon indexs. \n",
    "    for i in range(1, len(sequence), 3):\n",
    "        stops =[\"TAA\", \"TAA\", \"TGA\"]\n",
    "        if sequence[i:i+3] in stops:\n",
    "            stop_indexs.append(i)\n",
    "\n",
    "    orf = []\n",
    "    mark = 0\n",
    "    for i in range(0,len(start_indexs)):\n",
    "        for j in range(0, len(stop_indexs)):\n",
    "            if start_indexs[i] < stop_indexs[j] and start_indexs[i] > mark:\n",
    "                orf.append(sequence[start_indexs[i]:stop_indexs[j]+3])\n",
    "                mark = stop_indexs[j]+3\n",
    "                break\n",
    "    return orf"
   ]
  },
  {
   "cell_type": "code",
   "execution_count": 12,
   "id": "92c06fd3-7ebf-42a7-9ce3-f68ec7198843",
   "metadata": {},
   "outputs": [],
   "source": [
    "example_sequences = gen_seq_list('dna.example.fasta')"
   ]
  },
  {
   "cell_type": "code",
   "execution_count": 13,
   "id": "c174f012-fdf0-42d3-918f-fe6387fe9cce",
   "metadata": {},
   "outputs": [
    {
     "name": "stdout",
     "output_type": "stream",
     "text": [
      "here is a list of all orf lengths: \n",
      "[39, 363, 885, 18, 762, 90, 96, 42, 120, 15, 231, 132, 594, 366, 9, 57, 39, 21, 690, 192, 129, 210, 1371, 702, 18, 33, 42, 141, 72, 552, 1377, 15, 87, 135, 9, 33, 159, 24, 108, 477, 111, 126, 21, 489, 126, 9, 162, 174, 285, 135, 291, 78, 75, 33, 354, 486, 540, 918, 231, 90, 114, 324, 90, 48, 297, 33, 48, 24, 300, 21, 966, 219, 111, 84, 81, 27, 153, 63, 30, 27, 228, 723, 612, 30, 9, 678, 549, 381, 492, 33, 534, 12, 27, 36, 237, 123, 612]\n",
      "\n",
      " \n",
      "\n",
      "Longest ORF is:1377\n"
     ]
    }
   ],
   "source": [
    "#saperate and print all orfs.\n",
    "\n",
    "n = 1\n",
    "orf_lengths = []\n",
    "for s in example_sequences:\n",
    "    orfs = find_orf(s)\n",
    "    #print(\"ORF\")\n",
    "    for j in orfs:\n",
    "        #print(j)\n",
    "        #print(\"______________________________________________________\")\n",
    "        orf_lengths.append(len(j))\n",
    "\n",
    "print('here is a list of all orf lengths: \\n' + str(orf_lengths))\n",
    "#lets print the length of the longest orf\n",
    "print(\"\\n \\n\")\n",
    "print(\"Longest ORF is:\" + str(max(orf_lengths)))"
   ]
  },
  {
   "cell_type": "code",
   "execution_count": null,
   "id": "4809807a-e732-454d-964a-d2ef85337e2f",
   "metadata": {},
   "outputs": [],
   "source": []
  }
 ],
 "metadata": {
  "kernelspec": {
   "display_name": "Python 3 (ipykernel)",
   "language": "python",
   "name": "python3"
  },
  "language_info": {
   "codemirror_mode": {
    "name": "ipython",
    "version": 3
   },
   "file_extension": ".py",
   "mimetype": "text/x-python",
   "name": "python",
   "nbconvert_exporter": "python",
   "pygments_lexer": "ipython3",
   "version": "3.9.6"
  }
 },
 "nbformat": 4,
 "nbformat_minor": 5
}
