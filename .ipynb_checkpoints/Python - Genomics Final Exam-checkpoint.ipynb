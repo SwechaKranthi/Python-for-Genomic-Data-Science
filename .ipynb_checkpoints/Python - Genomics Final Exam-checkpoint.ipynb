{
 "cells": [
  {
   "cell_type": "markdown",
   "id": "b5ab1cea-e3de-47ea-b581-4a535c887a21",
   "metadata": {},
   "source": [
    "# Python for Genetic Data Science - Coursera Final Exam\n",
    "\n",
    "### * please look at the prep notebook for pre exam assignment for notes and reference"
   ]
  },
  {
   "cell_type": "markdown",
   "id": "b0e31afd-9b5a-44e1-b963-38d4c3c7b121",
   "metadata": {},
   "source": [
    "### 1. How many records are in the multi-FASTA file?\n"
   ]
  },
  {
   "cell_type": "code",
   "execution_count": 1,
   "id": "85e16be7-7d3e-47be-bee8-025b880e4896",
   "metadata": {},
   "outputs": [],
   "source": [
    "# I am having difficulty using biopython library, so we are doing it the good old manual text parser way\n",
    "\n",
    "dna = open(\"dna2.fasta\", \"r\")\n",
    "dna_file = dna.read()"
   ]
  },
  {
   "cell_type": "code",
   "execution_count": 2,
   "id": "33a7811c-bac7-43e8-adef-b7d5643d4dbc",
   "metadata": {},
   "outputs": [
    {
     "name": "stdout",
     "output_type": "stream",
     "text": [
      "There are 18 records in the sample sequences file\n"
     ]
    }
   ],
   "source": [
    "#old fashion\n",
    "\n",
    "print('There are ' + str(dna_file.count('>')) + ' records in the sample sequences file')\n"
   ]
  },
  {
   "cell_type": "markdown",
   "id": "f4fba458-fce9-4257-9c1c-1f66c1041439",
   "metadata": {},
   "source": [
    "### 2. What is the length of the longest sequence in the file?\n"
   ]
  },
  {
   "cell_type": "code",
   "execution_count": 3,
   "id": "e85afe63-2e2e-40e0-b4bf-8638af251460",
   "metadata": {},
   "outputs": [],
   "source": [
    "#this gives us a list of sequences\n",
    "def gen_seq_list(file_name):\n",
    "\n",
    "    f = open(file_name, \"r\")\n",
    "    file = f.readlines()\n",
    "\n",
    "    sequences = []\n",
    "    seq = \"\"\n",
    "    for f in file:\n",
    "        if not f.startswith('>'):\n",
    "            f = f.replace(\" \", \"\")\n",
    "            f = f.replace(\"\\n\", \"\")\n",
    "            seq = seq + f\n",
    "        else:\n",
    "            sequences.append(seq)\n",
    "            seq = \"\"\n",
    "            \n",
    "    sequences.append(seq)\n",
    "    sequences = sequences[1:] # remove first line due to null val\n",
    "    \n",
    "    return sequences\n",
    "    "
   ]
  },
  {
   "cell_type": "code",
   "execution_count": 4,
   "id": "45cdbb79-c365-4b47-b06e-e11d2e53742e",
   "metadata": {},
   "outputs": [],
   "source": [
    "#lets write is as a functions so we can just call it on a different file each time.\n",
    "\n",
    "def seq_lengths(file_name):\n",
    "    f = open(file_name, \"r\")\n",
    "    file = f.readlines()\n",
    "\n",
    "\n",
    "\n",
    "    sequences = []\n",
    "    seq = \"\"\n",
    "    for f in file:\n",
    "        if not f.startswith('>'):\n",
    "            f = f.replace(\" \", \"\")\n",
    "            f = f.replace(\"\\n\", \"\")\n",
    "            seq = seq + f\n",
    "        else:\n",
    "            sequences.append(seq)\n",
    "            seq = \"\"\n",
    "    \n",
    "# Add the last seq\n",
    "    sequences.append(seq)\n",
    "\n",
    "    sequences = sequences[1:]\n",
    "\n",
    "    lengths = [len(i) for i in sequences]\n",
    "        \n",
    "    return lengths"
   ]
  },
  {
   "cell_type": "code",
   "execution_count": 5,
   "id": "c4b76bb1-59da-4343-a2ec-bb00086f3709",
   "metadata": {},
   "outputs": [],
   "source": [
    "# list the lengths\n",
    "example_lengths =seq_lengths('dna2.fasta')"
   ]
  },
  {
   "cell_type": "code",
   "execution_count": 6,
   "id": "d20b0341-4740-4be1-b121-5db483d45f9a",
   "metadata": {},
   "outputs": [
    {
     "name": "stdout",
     "output_type": "stream",
     "text": [
      "shortest length of a sequence is: 4894\n"
     ]
    }
   ],
   "source": [
    "# sequence with longest length\n",
    "\n",
    "print('shortest length of a sequence is: '+ str(max(example_lengths)))"
   ]
  },
  {
   "cell_type": "markdown",
   "id": "1ac5cd75-6a2e-4ac2-8696-0b708fb933c4",
   "metadata": {},
   "source": [
    "### 3. What is the length of the shortest sequence in the file?\n"
   ]
  },
  {
   "cell_type": "code",
   "execution_count": 7,
   "id": "d1c0e247-6590-4cdc-9f0e-a5d3b33524c8",
   "metadata": {},
   "outputs": [
    {
     "name": "stdout",
     "output_type": "stream",
     "text": [
      "shortest length of a sequence is: 115\n"
     ]
    }
   ],
   "source": [
    "# sequence with shortest length\n",
    "\n",
    "print('shortest length of a sequence is: '+ str(min(example_lengths)))"
   ]
  },
  {
   "cell_type": "markdown",
   "id": "e5e50bbd-3d14-44ae-b948-4e25d75f9aee",
   "metadata": {},
   "source": [
    "### 4. What is the length of the longest ORF appearing in reading frame 2 of any of the sequences?\n"
   ]
  },
  {
   "cell_type": "code",
   "execution_count": 8,
   "id": "578b8090-2918-49ca-ba1d-e59221d156e9",
   "metadata": {},
   "outputs": [],
   "source": [
    "def find_orf(sequence,frame):      \n",
    "    # Find all ATG indexs. ATG is usually the start codon for the Methionine start\n",
    "    #seq = sequence[frame-1:]\n",
    "    #start_position = \n",
    "    start_indexs = []\n",
    "    stop_indexs = []\n",
    "    max_len_orf = 0\n",
    "    max_orf_start = 0\n",
    "    \n",
    "    for i in range(frame-1, len(sequence), 3):\n",
    "        if sequence[i:i+3] == \"ATG\":\n",
    "            start_indexs.append(i)\n",
    "\n",
    "    # Find all stop codon indexs. \n",
    "    for i in range(frame-1, len(sequence), 3):\n",
    "        stops =[\"TAA\", \"TAA\", \"TGA\"]\n",
    "        if sequence[i:i+3] in stops:\n",
    "            stop_indexs.append(i)\n",
    "\n",
    "    orf = []\n",
    "    mark = 0\n",
    "    for i in range(0,len(start_indexs)):\n",
    "        for j in range(0, len(stop_indexs)):\n",
    "            if start_indexs[i] < stop_indexs[j] and start_indexs[i] > mark:\n",
    "                orf.append(sequence[start_indexs[i]:stop_indexs[j]+3])\n",
    "                mark = stop_indexs[j]+3\n",
    "                len_orf = mark-start_indexs[i]\n",
    "                if len_orf > max_len_orf:\n",
    "                    max_len_orf = len_orf\n",
    "                    max_orf_start = start_indexs[i]\n",
    "                break\n",
    "    return orf, max_len_orf, max_orf_start"
   ]
  },
  {
   "cell_type": "code",
   "execution_count": 9,
   "id": "ae45ab16-6372-4f08-8c3a-0bfec7e063b2",
   "metadata": {},
   "outputs": [],
   "source": [
    "final_sequences = gen_seq_list('dna2.fasta')"
   ]
  },
  {
   "cell_type": "code",
   "execution_count": 10,
   "id": "aef9c356-9963-41b8-99cf-1c7af9e86dd1",
   "metadata": {},
   "outputs": [],
   "source": [
    "# test run of our method on 1 sample sequence\n",
    "orf_test, max_length, start_index = find_orf(final_sequences[0], 1)"
   ]
  },
  {
   "cell_type": "code",
   "execution_count": 11,
   "id": "f882b251-58b8-4d4a-88a1-80de0b9f0506",
   "metadata": {},
   "outputs": [
    {
     "name": "stdout",
     "output_type": "stream",
     "text": [
      "1296\n",
      "978\n"
     ]
    }
   ],
   "source": [
    "print(max_length)\n",
    "print(start_index)"
   ]
  },
  {
   "cell_type": "code",
   "execution_count": 12,
   "id": "c3a086da-ae1a-4313-9564-bfbc71610ba7",
   "metadata": {},
   "outputs": [
    {
     "name": "stdout",
     "output_type": "stream",
     "text": [
      "the length of the longest ORF appearing in reading frame 2 of any of the sequences: 1458\n"
     ]
    }
   ],
   "source": [
    "n = 1\n",
    "lengths = []\n",
    "for i in final_sequences:\n",
    "    orfs, max_length, start_index = find_orf(i,2)\n",
    "    for j in orfs:\n",
    "        lengths.append(len(j))\n",
    "\n",
    "# orf_lengths = [len(i) for i in orf_2 if i]\n",
    "print('the length of the longest ORF appearing in reading frame 2 of any of the sequences: ' + str(max(lengths)))"
   ]
  },
  {
   "cell_type": "markdown",
   "id": "be03f1f1-589e-480f-bee7-dae08e1b0c59",
   "metadata": {},
   "source": [
    "### 5. What is the starting position of the longest ORF in reading frame 3 in any of the sequences? The position should indicate the character number where the ORF begins. For instance, the following ORF:\n",
    "\n",
    "> sequence1\n",
    "\n",
    "ATGCCCTAG\n",
    "\n",
    "starts at position 1.\n"
   ]
  },
  {
   "cell_type": "code",
   "execution_count": 13,
   "id": "8b276749-3774-48c4-968e-bd4f2f1c8bd1",
   "metadata": {},
   "outputs": [
    {
     "name": "stdout",
     "output_type": "stream",
     "text": [
      "{2855: 837, 620: 165, 1640: 285, 698: 324, 428: 225, 1373: 249, 89: 189, 0: 0, 65: 213, 2333: 711, 56: 204, 3095: 1401, 1439: 1644, 347: 537, 1277: 219, 758: 171, 635: 1821}\n",
      "\n",
      " \n",
      " the starting position of the longest ORF in reading frame 3 in any of the sequences is: 636\n"
     ]
    }
   ],
   "source": [
    "n = 1\n",
    "start_indexes = {}\n",
    "for i in final_sequences:\n",
    "    orfs, max_length, start_index = find_orf(i,3)\n",
    "    start_indexes[start_index] = max_length\n",
    "\n",
    "    \n",
    "## here we have a key value pair dictionary of startindex and max length of orf for each of the sequences. \n",
    "print(start_indexes)\n",
    "#we just need to find the key with the largest value to get the answer to our question\n",
    "\n",
    "max_key = max(start_indexes, key=start_indexes.get)\n",
    "\n",
    "#answer is max key +1 cuz the indexes start at 0\n",
    "print('\\n \\n the starting position of the longest ORF in reading frame 3 in any of the sequences is: ' + str(max_key+1))"
   ]
  },
  {
   "cell_type": "markdown",
   "id": "9a213121-96c2-4ce6-81e7-031953fe1cc7",
   "metadata": {},
   "source": [
    "### 6. What is the length of the longest ORF appearing in any sequence and in any forward reading frame?\n"
   ]
  },
  {
   "cell_type": "code",
   "execution_count": 14,
   "id": "dfddda04-acd8-4369-bd50-ec590de7e7ab",
   "metadata": {},
   "outputs": [
    {
     "name": "stdout",
     "output_type": "stream",
     "text": [
      "the length of the longest ORF appearing in any sequence and in any forward reading frame: 2394\n"
     ]
    }
   ],
   "source": [
    "# same as question 4. we just apply for all 3 reading frames and pick the largest value\n",
    "n = 1\n",
    "lengths1 = []\n",
    "lengths2 = []\n",
    "lengths3 = []\n",
    "\n",
    "for i in final_sequences:\n",
    "    orfs1, max_length1, start_index1 = find_orf(i,1)\n",
    "    orfs2, max_length2, start_index2 = find_orf(i,2)\n",
    "    orfs3, max_length3, start_index3 = find_orf(i,3)\n",
    "    \n",
    "    for j in orfs1:\n",
    "        lengths1.append(len(j))\n",
    "        \n",
    "    for j in orfs2:\n",
    "        lengths2.append(len(j))\n",
    "        \n",
    "    for j in orfs3:\n",
    "        lengths3.append(len(j))\n",
    "\n",
    "max_length_all = [max(lengths1),max(lengths2),max(lengths3)]\n",
    "# orf_lengths = [len(i) for i in orf_2 if i]\n",
    "print('the length of the longest ORF appearing in any sequence and in any forward reading frame: ' + str(max(max_length_all)))"
   ]
  },
  {
   "cell_type": "markdown",
   "id": "7aeabb63-d11c-4ee9-80f3-c3297970c519",
   "metadata": {},
   "source": [
    "### 7. What is the length of the longest forward ORF that appears in the sequence with the identifier  gi|142022655|gb|EQ086233.1|16?\n"
   ]
  },
  {
   "cell_type": "code",
   "execution_count": 15,
   "id": "eac13aab-648d-415c-97e5-e67cda2bf880",
   "metadata": {},
   "outputs": [],
   "source": [
    "# we removed all identifiers when parsing the sequences list, \n",
    "#so we have to re-parse the original file to look for this index again\n",
    "\n",
    "dna_q7 = open(\"dna2.fasta\", \"r\")\n",
    "dna_list = dna_q7.readlines()\n",
    "\n",
    "# Find the sequence with the identifier gi|142022655|gb|EQ086233.1|97\n",
    "sequence = \"\"\n",
    "identifier = 0\n",
    "for i in range(0, len(dna_list)):\n",
    "    if \"gi|142022655|gb|EQ086233.1|16\" in dna_list[i]:\n",
    "        identifier = i\n",
    "\n",
    "for x in dna_list[identifier+1:]:\n",
    "    if not x.startswith('>'):\n",
    "        x = x.replace(\" \", \"\")\n",
    "        x = x.replace(\"\\n\", \"\")\n",
    "        sequence = sequence + x\n",
    "    else:\n",
    "        break\n"
   ]
  },
  {
   "cell_type": "code",
   "execution_count": 16,
   "id": "8e006f0d-b5f0-4285-994a-9ad44e5fdb4a",
   "metadata": {},
   "outputs": [
    {
     "name": "stdout",
     "output_type": "stream",
     "text": [
      "the length of the longest forward ORF that appears in the specified sequence is: 1644\n"
     ]
    }
   ],
   "source": [
    "orf_q7_1, max_length1, start_index1 = find_orf(sequence,1)\n",
    "orf_q7_2, max_length2, start_index2 = find_orf(sequence,2)\n",
    "orf_q7_3, max_length3, start_index3 = find_orf(sequence,3)\n",
    "    \n",
    "\n",
    "\n",
    "max_length_q7 = [max_length1,max_length2,max_length3]\n",
    "# orf_lengths = [len(i) for i in orf_2 if i]\n",
    "print('the length of the longest forward ORF that appears in the specified sequence is: ' + str(max(max_length_q7)))"
   ]
  },
  {
   "cell_type": "markdown",
   "id": "83771a94-2c74-4508-b20d-49d13047b530",
   "metadata": {},
   "source": [
    "### 8. Find the most frequently occurring repeat of length 6 in all sequences. How many times does it occur in all?\n"
   ]
  },
  {
   "cell_type": "code",
   "execution_count": 17,
   "id": "b022a242-f7fb-45ce-9d69-52be8e144590",
   "metadata": {},
   "outputs": [],
   "source": [
    "def get_repeats(sequence,repeat_length):\n",
    "    length = len(sequence)\n",
    "    repeats = []\n",
    "    for i in range(length):\n",
    "        repeats.append(sequence[i:i + repeat_length])\n",
    "    return repeats\n",
    "\n",
    "repeats_len6 = []\n",
    "for i in final_sequences:\n",
    "    repeats_list = get_repeats(i,6)\n",
    "    for j in repeats_list:\n",
    "        repeats_len6.append(j)\n"
   ]
  },
  {
   "cell_type": "code",
   "execution_count": 18,
   "id": "2daa1f33-0daf-42e1-b904-6a8823adcc4e",
   "metadata": {},
   "outputs": [
    {
     "name": "stdout",
     "output_type": "stream",
     "text": [
      "GCGCGC\n"
     ]
    }
   ],
   "source": [
    "sequences_mode_val = max(set(repeats_len6), key=repeats_len6.count)\n",
    "\n",
    "print(sequences_mode_val)"
   ]
  },
  {
   "cell_type": "code",
   "execution_count": 19,
   "id": "130de125-fed6-44c6-87b3-c35f009685aa",
   "metadata": {},
   "outputs": [
    {
     "data": {
      "text/plain": [
       "153"
      ]
     },
     "execution_count": 19,
     "metadata": {},
     "output_type": "execute_result"
    }
   ],
   "source": [
    "repeats_len6.count(sequences_mode_val)"
   ]
  },
  {
   "cell_type": "code",
   "execution_count": 20,
   "id": "23ad14ae-4371-4423-86a6-a287fee02588",
   "metadata": {},
   "outputs": [
    {
     "name": "stdout",
     "output_type": "stream",
     "text": [
      "the most frequently occurring repeat of length 6 in all sequences occurs 153 times\n"
     ]
    }
   ],
   "source": [
    "#answer:\n",
    "print('the most frequently occurring repeat of length 6 in all sequences occurs ' + str(repeats_len6.count(sequences_mode_val)) + ' times')"
   ]
  },
  {
   "cell_type": "markdown",
   "id": "f3fb6818-64f7-4dba-9b5e-de47ff1bfce0",
   "metadata": {},
   "source": [
    "### 9. Find all repeats of length 12 in the input file. Let's use Max to specify the number of copies of the most frequent repeat of length 12.  How many different 12-base sequences occur Max times?\n"
   ]
  },
  {
   "cell_type": "code",
   "execution_count": 21,
   "id": "41657ea5-e384-4d43-8747-d62e53a05add",
   "metadata": {},
   "outputs": [],
   "source": [
    "repeats_len12 = []\n",
    "for i in final_sequences:\n",
    "    repeats_list = get_repeats(i,12)\n",
    "    for j in repeats_list:\n",
    "        if len(j) == 12:\n",
    "            repeats_len12.append(j)\n",
    "\n"
   ]
  },
  {
   "cell_type": "code",
   "execution_count": 22,
   "id": "10ff51bf-74ae-42a5-b855-c54f4c54043e",
   "metadata": {},
   "outputs": [
    {
     "name": "stdout",
     "output_type": "stream",
     "text": [
      "TTCGCCATTCGC\n"
     ]
    }
   ],
   "source": [
    "sequences_mode_val_len12 = max(set(repeats_len12), key=repeats_len12.count)\n",
    "\n",
    "print(sequences_mode_val_len12)"
   ]
  },
  {
   "cell_type": "code",
   "execution_count": 23,
   "id": "901d07b1-f4e1-4c27-bc11-acd6cc4efcda",
   "metadata": {},
   "outputs": [],
   "source": [
    "max_count = repeats_len12.count(sequences_mode_val_len12)"
   ]
  },
  {
   "cell_type": "code",
   "execution_count": 24,
   "id": "3cc993a4-713c-4695-90b2-ee7031759aae",
   "metadata": {},
   "outputs": [],
   "source": [
    "from collections import Counter\n",
    "sequence_counts = Counter(repeats_len12)\n",
    "#print(Counter(repeats_len12))\n"
   ]
  },
  {
   "cell_type": "code",
   "execution_count": 25,
   "id": "b74ae573-50ca-426f-ba86-5cb5bb2564cf",
   "metadata": {},
   "outputs": [
    {
     "data": {
      "text/plain": [
       "collections.Counter"
      ]
     },
     "execution_count": 25,
     "metadata": {},
     "output_type": "execute_result"
    }
   ],
   "source": [
    "type(sequence_counts)"
   ]
  },
  {
   "cell_type": "code",
   "execution_count": 26,
   "id": "96a5f254-1a58-43f5-afe9-cf30bf2b3b4e",
   "metadata": {},
   "outputs": [
    {
     "name": "stdout",
     "output_type": "stream",
     "text": [
      "{'CATTCGCCATTC': 10, 'ATTCGCCATTCG': 10, 'TTCGCCATTCGC': 10, 'TCGCCATTCGCC': 10}\n"
     ]
    }
   ],
   "source": [
    "#sequence_counts\n",
    "\n",
    "filtered_sequence_counts = {}\n",
    "\n",
    "for key, value in sequence_counts.items():\n",
    "    if (value == max_count):\n",
    "        filtered_sequence_counts[key] = value\n",
    "\n",
    "print(filtered_sequence_counts)"
   ]
  },
  {
   "cell_type": "code",
   "execution_count": 27,
   "id": "45427519-99a6-482d-b6d2-54716c12d0c9",
   "metadata": {},
   "outputs": [
    {
     "name": "stdout",
     "output_type": "stream",
     "text": [
      "4 different 12-base sequences occur Max times\n"
     ]
    }
   ],
   "source": [
    "#answer:\n",
    "print(str(len(filtered_sequence_counts)) + ' different 12-base sequences occur Max times' )"
   ]
  },
  {
   "cell_type": "markdown",
   "id": "2e1e3944-f3d4-489a-a970-8e374b2101f0",
   "metadata": {},
   "source": [
    "### 10. Which one of the following repeats of length 7 has a maximum number of occurrences?\n"
   ]
  },
  {
   "cell_type": "code",
   "execution_count": 28,
   "id": "324450d4-fe68-49f4-a209-ba32f3ece955",
   "metadata": {},
   "outputs": [],
   "source": [
    "repeats_len7 = []\n",
    "for i in final_sequences:\n",
    "    repeats_list = get_repeats(i,7)\n",
    "    for j in repeats_list:\n",
    "        repeats_len7.append(j)\n",
    "\n"
   ]
  },
  {
   "cell_type": "code",
   "execution_count": 29,
   "id": "43689671-3fc3-4a57-81cb-bb8ec7ddb69b",
   "metadata": {},
   "outputs": [],
   "source": [
    "sequences_mode_val_len7 = max(set(repeats_len7), key=repeats_len7.count)"
   ]
  },
  {
   "cell_type": "code",
   "execution_count": 30,
   "id": "12b63b8c-8ca2-4119-bd30-e54156a2938b",
   "metadata": {},
   "outputs": [
    {
     "name": "stdout",
     "output_type": "stream",
     "text": [
      "CGCGCCG has a maximum number of occurrences and is a repeat with length of 7\n"
     ]
    }
   ],
   "source": [
    "#answer:\n",
    "print(sequences_mode_val_len7 + ' has a maximum number of occurrences and is a repeat with length of 7')"
   ]
  }
 ],
 "metadata": {
  "kernelspec": {
   "display_name": "Python 3 (ipykernel)",
   "language": "python",
   "name": "python3"
  },
  "language_info": {
   "codemirror_mode": {
    "name": "ipython",
    "version": 3
   },
   "file_extension": ".py",
   "mimetype": "text/x-python",
   "name": "python",
   "nbconvert_exporter": "python",
   "pygments_lexer": "ipython3",
   "version": "3.9.6"
  }
 },
 "nbformat": 4,
 "nbformat_minor": 5
}
